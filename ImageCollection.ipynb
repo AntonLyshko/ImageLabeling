{
 "cells": [
  {
   "cell_type": "code",
   "execution_count": 3,
   "metadata": {},
   "outputs": [
    {
     "name": "stdout",
     "output_type": "stream",
     "text": [
      "Requirement already satisfied: opencv-python in c:\\users\\anton\\anaconda3\\lib\\site-packages (4.5.1.48)\n",
      "Requirement already satisfied: numpy>=1.17.3 in c:\\users\\anton\\anaconda3\\lib\\site-packages (from opencv-python) (1.19.2)\n"
     ]
    }
   ],
   "source": [
    "!pip install opencv-python"
   ]
  },
  {
   "cell_type": "code",
   "execution_count": 4,
   "metadata": {},
   "outputs": [
    {
     "name": "stdout",
     "output_type": "stream",
     "text": [
      "Requirement already up-to-date: pyqt5 in c:\\users\\anton\\anaconda3\\lib\\site-packages (5.15.4)\n",
      "Requirement already up-to-date: lxml in c:\\users\\anton\\anaconda3\\lib\\site-packages (4.6.3)\n",
      "Requirement already satisfied, skipping upgrade: PyQt5-sip<13,>=12.8 in c:\\users\\anton\\anaconda3\\lib\\site-packages (from pyqt5) (12.8.1)\n",
      "Requirement already satisfied, skipping upgrade: PyQt5-Qt5>=5.15 in c:\\users\\anton\\anaconda3\\lib\\site-packages (from pyqt5) (5.15.2)\n"
     ]
    }
   ],
   "source": [
    "!pip install --upgrade pyqt5 lxml"
   ]
  },
  {
   "cell_type": "code",
   "execution_count": 5,
   "metadata": {},
   "outputs": [],
   "source": [
    "import cv2 \n",
    "import uuid\n",
    "import os\n",
    "import time"
   ]
  },
  {
   "cell_type": "code",
   "execution_count": 6,
   "metadata": {},
   "outputs": [],
   "source": [
    "IMAGES_PATH = os.path.join('Tensorflow', 'workspace', 'images', 'collectedimages')\n",
    "LABELIMG_PATH = os.path.join('Tensorflow', 'labelimg')"
   ]
  },
  {
   "cell_type": "code",
   "execution_count": 7,
   "metadata": {},
   "outputs": [],
   "source": [
    "labels = ['counter']"
   ]
  },
  {
   "cell_type": "code",
   "execution_count": 8,
   "metadata": {},
   "outputs": [],
   "source": [
    "if not os.path.exists(IMAGES_PATH):\n",
    "    if os.name == 'posix':\n",
    "        !mkdir -p {IMAGES_PATH}\n",
    "    if os.name == 'nt':\n",
    "         !mkdir {IMAGES_PATH}\n",
    "for label in labels:\n",
    "    path = os.path.join(IMAGES_PATH, label)\n",
    "    if not os.path.exists(path):\n",
    "        !mkdir {path}"
   ]
  },
  {
   "cell_type": "markdown",
   "metadata": {},
   "source": [
    "#### Image Labeling installation"
   ]
  },
  {
   "cell_type": "code",
   "execution_count": null,
   "metadata": {},
   "outputs": [],
   "source": [
    "if not os.path.exists(LABELIMG_PATH):\n",
    "    !mkdir {LABELIMG_PATH}\n",
    "    !git clone https://github.com/tzutalin/labelImg {LABELIMG_PATH}"
   ]
  },
  {
   "cell_type": "markdown",
   "metadata": {},
   "source": [
    "#### Labeling"
   ]
  },
  {
   "cell_type": "code",
   "execution_count": 7,
   "metadata": {},
   "outputs": [],
   "source": [
    "!cd {LABELIMG_PATH} && pyrcc5 -o libs/resources.py resources.qrc"
   ]
  },
  {
   "cell_type": "code",
   "execution_count": 8,
   "metadata": {},
   "outputs": [
    {
     "name": "stdout",
     "output_type": "stream",
     "text": [
      "Image:C:\\Users\\Anton\\Desktop\\image labeling\\Tensorflow\\workspace\\images\\counter\\counter.1.jpg -> Annotation:C:/Users/Anton/Desktop/image labeling/Tensorflow/workspace/images/counter/counter.1.xml\n",
      "Image:C:\\Users\\Anton\\Desktop\\image labeling\\Tensorflow\\workspace\\images\\counter\\counter.2.jpg -> Annotation:C:/Users/Anton/Desktop/image labeling/Tensorflow/workspace/images/counter/counter.2.xml\n",
      "Image:C:\\Users\\Anton\\Desktop\\image labeling\\Tensorflow\\workspace\\images\\counter\\counter.3.jpg -> Annotation:C:/Users/Anton/Desktop/image labeling/Tensorflow/workspace/images/counter/counter.3.xml\n",
      "Image:C:\\Users\\Anton\\Desktop\\image labeling\\Tensorflow\\workspace\\images\\counter\\counter.4.jpg -> Annotation:C:/Users/Anton/Desktop/image labeling/Tensorflow/workspace/images/counter/counter.4.xml\n",
      "Image:C:\\Users\\Anton\\Desktop\\image labeling\\Tensorflow\\workspace\\images\\counter\\counter.5.jpg -> Annotation:C:/Users/Anton/Desktop/image labeling/Tensorflow/workspace/images/counter/counter.5.xml\n"
     ]
    }
   ],
   "source": [
    "!cd {LABELIMG_PATH} && python labelImg.py"
   ]
  }
 ],
 "metadata": {
  "kernelspec": {
   "display_name": "Python 3",
   "language": "python",
   "name": "python3"
  },
  "language_info": {
   "codemirror_mode": {
    "name": "ipython",
    "version": 3
   },
   "file_extension": ".py",
   "mimetype": "text/x-python",
   "name": "python",
   "nbconvert_exporter": "python",
   "pygments_lexer": "ipython3",
   "version": "3.8.5"
  }
 },
 "nbformat": 4,
 "nbformat_minor": 4
}
